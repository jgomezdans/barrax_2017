{
 "cells": [
  {
   "cell_type": "markdown",
   "metadata": {},
   "source": [
    "# Experiments with a thermal RT model\n",
    "\n",
    "The thermal SAIL (Verhoef et al 2007, or thereabouts) model produces so-called \"top of canopy\" radiances when given a description of the canopy structure, imaging geometry, as well as the thermal state of the leaves and soil. The model distinguishes sunlit and shadowed components, and assumes (among other things!)\n",
    "\n",
    "* The canopy is continuous (turbid medium)\n",
    "* All leaves are at the same temperature, and the emission of each leaf is bi-Lambertian\n",
    "* The soil emission is Lambertian\n",
    "\n",
    "## How does the model describe a canopy?\n",
    "\n",
    "The canopy is basically described by it's structure, which in turn it's given by \n",
    "\n",
    "* The LAI (leaf area index) \n",
    "* The leaf angle distribution, which can be described using a couple of different parameterisations\n",
    "\n",
    "The different thermal components (leaves, soil) are described by their temperature and their emissivity. We further assume a standard value for reflectance in the thermal domain (it's quite small). Further, the contribution from the sky (downwelling radiation) is also required.\n",
    "\n",
    "\n"
   ]
  },
  {
   "cell_type": "code",
   "execution_count": 86,
   "metadata": {},
   "outputs": [],
   "source": [
    "import prosail\n",
    "import numpy as np\n",
    "import matplotlib.pyplot as plt\n",
    "from thermal_stuff import *\n",
    "%matplotlib inline"
   ]
  },
  {
   "cell_type": "markdown",
   "metadata": {},
   "source": [
    "We will use the function `angular_effects` to look at the top-of-canopy temperature as a function of component temperatures and view zenith angle, as well as the angular variation of the \"effective canopy emissivity\". The `angular_effects` function takes the following parameters:\n",
    "\n",
    "1. Emissivity of the vegetation\n",
    "2. Emissivity of the soil\n",
    "3. Temperature of the sunlit vegetation in Kelvin\n",
    "4. Temperature of the sunlit soil in Kelvin\n",
    "5. Temperature of the shaded vegetation in Kelvin\n",
    "6. Temperature of the shaded soil in Kelvin\n",
    "7. LAI in $m^2m^{-2}$\n",
    "8. Parameter for the Campbell leaf angle distribution (mean leaf normal inclination angle in degrees)\n",
    "\n",
    "\n",
    "Use this function to check the canopy temperature as a function of angle for some of the values that you measured on the field over the last few days. What patterns do you see?"
   ]
  },
  {
   "cell_type": "code",
   "execution_count": null,
   "metadata": {
    "collapsed": true
   },
   "outputs": [],
   "source": []
  }
 ],
 "metadata": {
  "kernelspec": {
   "display_name": "Python 2",
   "language": "python",
   "name": "python2"
  },
  "language_info": {
   "codemirror_mode": {
    "name": "ipython",
    "version": 2
   },
   "file_extension": ".py",
   "mimetype": "text/x-python",
   "name": "python",
   "nbconvert_exporter": "python",
   "pygments_lexer": "ipython2",
   "version": "2.7.13"
  }
 },
 "nbformat": 4,
 "nbformat_minor": 2
}
